{
 "cells": [
  {
   "cell_type": "markdown",
   "source": [
    "# About the project\n",
    "In this project we will explore the dataset called \"Online retail II\" which contains data about online retail from 2009 to 2011.\n",
    "The dataset can be downloaded from [here](https://archive-beta.ics.uci.edu/dataset/502/online+retail+ii).\n",
    "The dataset originally comes in excel format, but has been transformed into csv files by using the builtin tools of MS excel.\n"
   ],
   "metadata": {
    "collapsed": false
   }
  },
  {
   "cell_type": "markdown",
   "source": [
    "## Defining the schema and loading the data\n",
    "Let's start the project by defining the paths of the files and the schema. We will then load the files into a dataframe based on the schema."
   ],
   "metadata": {
    "collapsed": false
   }
  },
  {
   "cell_type": "code",
   "execution_count": 2,
   "metadata": {},
   "outputs": [
    {
     "name": "stdout",
     "output_type": "stream",
     "text": [
      "23/02/08 14:31:27 WARN Utils: Your hostname, Madss-MacBook-Pro.local resolves to a loopback address: 127.0.0.1; using 10.202.0.158 instead (on interface en0)\n",
      "23/02/08 14:31:27 WARN Utils: Set SPARK_LOCAL_IP if you need to bind to another address\n"
     ]
    },
    {
     "name": "stderr",
     "output_type": "stream",
     "text": [
      "Setting default log level to \"WARN\".\n",
      "To adjust logging level use sc.setLogLevel(newLevel). For SparkR, use setLogLevel(newLevel).\n"
     ]
    },
    {
     "name": "stdout",
     "output_type": "stream",
     "text": [
      "23/02/08 14:31:28 WARN NativeCodeLoader: Unable to load native-hadoop library for your platform... using builtin-java classes where applicable\n",
      "23/02/08 14:31:29 WARN Utils: Service 'SparkUI' could not bind on port 4040. Attempting port 4041.\n"
     ]
    }
   ],
   "source": [
    "import pyspark\n",
    "from pyspark.sql import SparkSession\n",
    "from pyspark.sql.types import StructType, StructField, StringType, DoubleType, IntegerType, DateType, TimestampType\n",
    "\n",
    "# Invoice\tStockCode\tDescription\tQuantity\tInvoiceDate\tPrice\tCustomer ID\tCountry\n",
    "retail_file_1 = \"/Users/madslun/Documents/Programmering/Big data analytics/data/Online retail/2009-2010-online_retail_II.csv\"\n",
    "retail_file_2 = \"/Users/madslun/Documents/Programmering/Big data analytics/data/Online retail/2010-2011-online_retail_II.csv\"\n",
    "\n",
    "retail_schema = StructType(fields=[\n",
    "    StructField(\"Invoice\", IntegerType(), False),\n",
    "    StructField(\"StockCode\", StringType(), False),\n",
    "    StructField(\"Description\", StringType(), False),\n",
    "    StructField(\"Quantity\", IntegerType(), False),\n",
    "    StructField(\"InvoiceDate\", StringType(), False),\n",
    "    StructField(\"Price\", DoubleType(), False),\n",
    "    StructField(\"Customer ID\", IntegerType(), False),\n",
    "    StructField(\"Country\", StringType(), False),\n",
    "])\n",
    "spark = SparkSession.builder.appName(\"Online-retail\").getOrCreate()\n",
    "\n",
    "df1 = spark.read.schema(retail_schema) \\\n",
    "    .option(\"header\", \"true\") \\\n",
    "    .option(\"delimiter\", \";\") \\\n",
    "    .csv([retail_file_1, retail_file_2])\n",
    "\n"
   ]
  },
  {
   "cell_type": "markdown",
   "source": [
    "## Handling dates\n",
    "As we defined above, the date format was put into a string format. The reason for this is that we will have to define the format in order to"
   ],
   "metadata": {
    "collapsed": false
   }
  },
  {
   "cell_type": "code",
   "execution_count": 3,
   "outputs": [],
   "source": [
    "from pyspark.sql.functions import to_timestamp\n",
    "\n",
    "df1 = df1.withColumn(\"Time\", to_timestamp(\"InvoiceDate\", \"dd.MM.yyyy HH:mm\")).drop(\"InvoiceDate\")"
   ],
   "metadata": {
    "collapsed": false
   }
  },
  {
   "cell_type": "markdown",
   "source": [
    "## Distribution of countries\n",
    "Before we start using models to do predictions we will explore what data we are dealing with here. Firstly we will start by looking at the distribution of countries, since this is the data we want to do the prediction on.\n"
   ],
   "metadata": {
    "collapsed": false
   }
  },
  {
   "cell_type": "code",
   "execution_count": 4,
   "outputs": [
    {
     "name": "stderr",
     "output_type": "stream",
     "text": [
      "                                                                                \r"
     ]
    },
    {
     "name": "stdout",
     "output_type": "stream",
     "text": [
      "45331\n"
     ]
    },
    {
     "name": "stderr",
     "output_type": "stream",
     "text": [
      "                                                                                \r"
     ]
    },
    {
     "data": {
      "text/plain": "<Figure size 432x288 with 1 Axes>",
      "image/png": "[encoded data removed]"
     },
     "metadata": {},
     "output_type": "display_data"
    }
   ],
   "source": [
    "import matplotlib.pyplot as plt\n",
    "\n",
    "unique_invoices = df1.select(\"Invoice\").distinct().count()\n",
    "print(unique_invoices)\n",
    "\n",
    "num_uk_country = df1.where(\"Country == 'United Kingdom'\").count()\n",
    "other_country = df1.where(\"Country != 'United Kingdom'\")\n",
    "num_other_country = other_country.select(\"Country\").count()\n",
    "\n",
    "fig, ax = plt.subplots()\n",
    "ax.pie([num_uk_country, num_other_country], labels=['United Kingdom', 'Other']\n",
    "       )\n",
    "\n",
    "plt.show()\n"
   ],
   "metadata": {
    "collapsed": false
   }
  },
  {
   "cell_type": "markdown",
   "source": [
    "As we saw from the chart above, there is one dominant country in this dataset, and that is UK.\n"
   ],
   "metadata": {
    "collapsed": false
   }
  },
  {
   "cell_type": "markdown",
   "source": [],
   "metadata": {
    "collapsed": false
   }
  },
  {
   "cell_type": "markdown",
   "source": [
    "## Price\n",
    "Let's have a look at the price gap in the sales we are dealing with."
   ],
   "metadata": {
    "collapsed": false
   }
  },
  {
   "cell_type": "code",
   "execution_count": 22,
   "outputs": [
    {
     "name": "stderr",
     "output_type": "stream",
     "text": [
      "                                                                                \r"
     ]
    },
    {
     "name": "stdout",
     "output_type": "stream",
     "text": [
      "+-------+\n",
      "|  Price|\n",
      "+-------+\n",
      "|38970.0|\n",
      "+-------+\n",
      "only showing top 1 row\n",
      "\n",
      "+---------+\n",
      "|    Price|\n",
      "+---------+\n",
      "|-53594.36|\n",
      "+---------+\n",
      "only showing top 1 row\n",
      "\n"
     ]
    }
   ],
   "source": [
    "from pyspark.sql.functions import col\n",
    "\n",
    "max_price = df1.orderBy(col(\"Price\").desc()).select(\"Price\").show(1)\n",
    "min_price = df1.orderBy(col(\"Price\").asc()).select(\"Price\").show(1)\n"
   ],
   "metadata": {
    "collapsed": false
   }
  },
  {
   "cell_type": "markdown",
   "source": [
    "As we can see here, the lowest number is negative, and even greater in absolute value than the max value.\n",
    "\n",
    "*Note; I tried plotting this in a histogram, but since the values are so spread apart, the plot only took a long time to render and gave no additional insight.*"
   ],
   "metadata": {
    "collapsed": false
   }
  },
  {
   "cell_type": "markdown",
   "source": [
    "## Months\n",
    "Let's see if there are any noteable distribution within the months of a purchase."
   ],
   "metadata": {
    "collapsed": false
   }
  },
  {
   "cell_type": "code",
   "execution_count": 23,
   "outputs": [
    {
     "name": "stderr",
     "output_type": "stream",
     "text": [
      "                                                                                \r"
     ]
    },
    {
     "data": {
      "text/plain": "[<matplotlib.lines.Line2D at 0x17c717130>]"
     },
     "execution_count": 23,
     "metadata": {},
     "output_type": "execute_result"
    },
    {
     "data": {
      "text/plain": "<Figure size 432x288 with 1 Axes>",
      "image/png": "[encoded data removed]"
     },
     "metadata": {
      "needs_background": "light"
     },
     "output_type": "display_data"
    }
   ],
   "source": [
    "from pyspark.sql.functions import month\n",
    "\n",
    "sales_by_month = df1.groupby(month('Time')).count().collect()\n",
    "\n",
    "mapped = dict(sorted(iter(sales_by_month)))\n",
    "plt.plot((mapped.keys()), mapped.values())"
   ],
   "metadata": {
    "collapsed": false
   }
  },
  {
   "cell_type": "markdown",
   "source": [
    "As we can see here the purchases remain pretty stable the first eight months of a year. However, when we approach the autumn/winter months, there is a massive increase. This increase peeks at november, and falls until February."
   ],
   "metadata": {
    "collapsed": false
   }
  },
  {
   "cell_type": "markdown",
   "source": [
    "## Hours\n",
    "We have determined that there are most purchases in the last months of the year. Let's have a further look and see if there is any pattern as to when the purchases happen during the day."
   ],
   "metadata": {
    "collapsed": false
   }
  },
  {
   "cell_type": "code",
   "execution_count": 24,
   "outputs": [
    {
     "name": "stderr",
     "output_type": "stream",
     "text": [
      "                                                                                \r"
     ]
    },
    {
     "data": {
      "text/plain": "[<matplotlib.lines.Line2D at 0x17c783730>]"
     },
     "execution_count": 24,
     "metadata": {},
     "output_type": "execute_result"
    },
    {
     "data": {
      "text/plain": "<Figure size 432x288 with 1 Axes>",
      "image/png": "[encoded data removed]"
     },
     "metadata": {
      "needs_background": "light"
     },
     "output_type": "display_data"
    }
   ],
   "source": [
    "from pyspark.sql.functions import hour\n",
    "\n",
    "#We see that there are negative numbers here O.o\n",
    "sales_by_hour = df1.groupby(hour('Time')).count().collect()\n",
    "\n",
    "fig, ax = plt.subplots()\n",
    "\n",
    "mapped = dict(sorted(iter(sales_by_hour)))\n",
    "plt.plot((mapped.keys()), mapped.values())\n"
   ],
   "metadata": {
    "collapsed": false
   }
  },
  {
   "cell_type": "markdown",
   "source": [
    "We see here that there is few purchases happening close to opening and closing times. From 08 to 18, almost all the purchases happen. This peeks around 12, and decreases steadily afterwards."
   ],
   "metadata": {
    "collapsed": false
   }
  },
  {
   "cell_type": "code",
   "execution_count": 25,
   "outputs": [
    {
     "name": "stderr",
     "output_type": "stream",
     "text": [
      "[Stage 89:==============>                                           (2 + 6) / 8]\r"
     ]
    },
    {
     "name": "stdout",
     "output_type": "stream",
     "text": [
      "179.60137977452464\n"
     ]
    },
    {
     "name": "stderr",
     "output_type": "stream",
     "text": [
      "                                                                                \r"
     ]
    }
   ],
   "source": [
    "customer_purchase = df1.groupby(col(\"Customer ID\")).count().collect()\n",
    "customer_purchase = dict(iter(customer_purchase))\n",
    "\n",
    "print(sum(customer_purchase.values()) / len(customer_purchase))"
   ],
   "metadata": {
    "collapsed": false
   }
  },
  {
   "cell_type": "markdown",
   "source": [
    "## Prepare for classifying\n",
    "Now that we have gained some insight in the dataset we need to prepare it for classifying. We will convert the contries into one-hot encodings, and the time into unix timestamp."
   ],
   "metadata": {
    "collapsed": false
   }
  },
  {
   "cell_type": "code",
   "execution_count": 26,
   "outputs": [],
   "source": [
    "from pyspark.ml.feature import OneHotEncoder, StringIndexer\n",
    "from pyspark.sql.functions import unix_timestamp\n",
    "\n",
    "df1 = df1.dropna()\n",
    "\n",
    "# df1 = df1.withColumn(\"Time\", to_timestamp(\"InvoiceDate\", \"dd.MM.yyyy HH:mm\")).drop(\"InvoiceDate\")\n",
    "\n",
    "df1 = df1.withColumn('Time', unix_timestamp('Time'))"
   ],
   "metadata": {
    "collapsed": false
   }
  },
  {
   "cell_type": "code",
   "execution_count": 27,
   "outputs": [
    {
     "name": "stderr",
     "output_type": "stream",
     "text": [
      "                                                                                \r"
     ]
    }
   ],
   "source": [
    "encoder = StringIndexer(inputCol='Country', outputCol='O-Country')\n",
    "model = encoder.fit(df1)\n",
    "df1 = model.transform(df1)"
   ],
   "metadata": {
    "collapsed": false
   }
  },
  {
   "cell_type": "code",
   "execution_count": 28,
   "outputs": [
    {
     "name": "stdout",
     "output_type": "stream",
     "text": [
      "+-------+---------+--------------------+--------+-----+-----------+--------------+----------+---------+\n",
      "|Invoice|StockCode|         Description|Quantity|Price|Customer ID|       Country|      Time|O-Country|\n",
      "+-------+---------+--------------------+--------+-----+-----------+--------------+----------+---------+\n",
      "| 489434|    85048|15CM CHRISTMAS GL...|      12| 6.95|      13085|United Kingdom|1259649900|      0.0|\n",
      "| 489434|   79323P|  PINK CHERRY LIGHTS|      12| 6.75|      13085|United Kingdom|1259649900|      0.0|\n",
      "| 489434|   79323W| WHITE CHERRY LIGHTS|      12| 6.75|      13085|United Kingdom|1259649900|      0.0|\n",
      "| 489434|    22041|\"RECORD FRAME 7\"\"...|      48|  2.1|      13085|United Kingdom|1259649900|      0.0|\n",
      "| 489434|    21232|STRAWBERRY CERAMI...|      24| 1.25|      13085|United Kingdom|1259649900|      0.0|\n",
      "| 489434|    22064|PINK DOUGHNUT TRI...|      24| 1.65|      13085|United Kingdom|1259649900|      0.0|\n",
      "| 489434|    21871| SAVE THE PLANET MUG|      24| 1.25|      13085|United Kingdom|1259649900|      0.0|\n",
      "| 489434|    21523|FANCY FONT HOME S...|      10| 5.95|      13085|United Kingdom|1259649900|      0.0|\n",
      "| 489435|    22350|           CAT BOWL |      12| 2.55|      13085|United Kingdom|1259649960|      0.0|\n",
      "| 489435|    22349|DOG BOWL , CHASIN...|      12| 3.75|      13085|United Kingdom|1259649960|      0.0|\n",
      "| 489435|    22195|HEART MEASURING S...|      24| 1.65|      13085|United Kingdom|1259649960|      0.0|\n",
      "| 489435|    22353|LUNCHBOX WITH CUT...|      12| 2.55|      13085|United Kingdom|1259649960|      0.0|\n",
      "| 489436|   48173C|DOOR MAT BLACK FL...|      10| 5.95|      13078|United Kingdom|1259654760|      0.0|\n",
      "| 489436|    21755|LOVE BUILDING BLO...|      18| 5.45|      13078|United Kingdom|1259654760|      0.0|\n",
      "| 489436|    21754|HOME BUILDING BLO...|       3| 5.95|      13078|United Kingdom|1259654760|      0.0|\n",
      "| 489436|    84879|ASSORTED COLOUR B...|      16| 1.69|      13078|United Kingdom|1259654760|      0.0|\n",
      "| 489436|    22119| PEACE WOODEN BLO...|       3| 6.95|      13078|United Kingdom|1259654760|      0.0|\n",
      "| 489436|    22142|CHRISTMAS CRAFT W...|      12| 1.45|      13078|United Kingdom|1259654760|      0.0|\n",
      "| 489436|    22296|HEART IVORY TRELL...|      12| 1.65|      13078|United Kingdom|1259654760|      0.0|\n",
      "| 489436|    22295|HEART FILIGREE DO...|      12| 1.65|      13078|United Kingdom|1259654760|      0.0|\n",
      "+-------+---------+--------------------+--------+-----+-----------+--------------+----------+---------+\n",
      "only showing top 20 rows\n",
      "\n"
     ]
    }
   ],
   "source": [
    "df1.show()"
   ],
   "metadata": {
    "collapsed": false
   }
  },
  {
   "cell_type": "markdown",
   "source": [
    "## Selecting features\n",
    "Let's continue the preparation by creating a vector with the features with a belonging label column. Then we will split the data into training and testing."
   ],
   "metadata": {
    "collapsed": false
   }
  },
  {
   "cell_type": "code",
   "execution_count": 29,
   "outputs": [
    {
     "name": "stdout",
     "output_type": "stream",
     "text": [
      "DataFrame[features: vector, O-Country: double]\n"
     ]
    }
   ],
   "source": [
    "from pyspark.ml.feature import VectorAssembler\n",
    "\n",
    "assembler = VectorAssembler(inputCols=['Invoice', 'Quantity', 'Customer ID', 'Time', 'Price'], outputCol='features')\n",
    "\n",
    "output = assembler.transform(df1)\n",
    "processed_data = output.select('features', 'O-Country')\n",
    "print(processed_data)\n",
    "\n"
   ],
   "metadata": {
    "collapsed": false
   }
  },
  {
   "cell_type": "code",
   "execution_count": 30,
   "outputs": [],
   "source": [
    "train, test = processed_data.randomSplit([0.8, 0.2])"
   ],
   "metadata": {
    "collapsed": false
   }
  },
  {
   "cell_type": "markdown",
   "source": [
    "## Logistic regression\n",
    "We will start by using a logistic regression classifier and using the training dataset to fit the model. Afterwards we will use the test dataset to test its ability to predict labels. We will have a look at Auc and Accuracy."
   ],
   "metadata": {
    "collapsed": false
   }
  },
  {
   "cell_type": "code",
   "execution_count": 31,
   "outputs": [
    {
     "name": "stderr",
     "output_type": "stream",
     "text": [
      "[Stage 98:>                                                         (0 + 8) / 8]\r"
     ]
    },
    {
     "name": "stdout",
     "output_type": "stream",
     "text": [
      "23/02/08 14:51:10 WARN InstanceBuilder$NativeBLAS: Failed to load implementation from:dev.ludovic.netlib.blas.JNIBLAS\n",
      "23/02/08 14:51:10 WARN InstanceBuilder$NativeBLAS: Failed to load implementation from:dev.ludovic.netlib.blas.ForeignLinkerBLAS\n"
     ]
    },
    {
     "name": "stderr",
     "output_type": "stream",
     "text": [
      "                                                                                \r"
     ]
    }
   ],
   "source": [
    "from pyspark.ml.classification import LogisticRegression\n",
    "\n",
    "model = LogisticRegression(labelCol='O-Country')\n",
    "\n",
    "learned = model.fit(train)\n",
    "pred = learned.transform(test)"
   ],
   "metadata": {
    "collapsed": false
   }
  },
  {
   "cell_type": "code",
   "execution_count": 32,
   "outputs": [
    {
     "name": "stderr",
     "output_type": "stream",
     "text": [
      "[Stage 310:==============>                                          (2 + 6) / 8]\r"
     ]
    },
    {
     "name": "stdout",
     "output_type": "stream",
     "text": [
      "+-------+-----------------+-------------------+\n",
      "|summary|        O-Country|         prediction|\n",
      "+-------+-----------------+-------------------+\n",
      "|  count|           161486|             161486|\n",
      "|   mean|0.564909651610666|0.04007158515289251|\n",
      "| stddev|2.590680835528958|0.22923327568324287|\n",
      "+-------+-----------------+-------------------+\n",
      "only showing top 3 rows\n",
      "\n"
     ]
    },
    {
     "name": "stderr",
     "output_type": "stream",
     "text": [
      "                                                                                \r"
     ]
    }
   ],
   "source": [
    "pred.summary().show(3)"
   ],
   "metadata": {
    "collapsed": false
   }
  },
  {
   "cell_type": "code",
   "execution_count": 33,
   "outputs": [
    {
     "name": "stderr",
     "output_type": "stream",
     "text": [
      "                                                                                \r"
     ]
    },
    {
     "name": "stdout",
     "output_type": "stream",
     "text": [
      "Auc 0.6765731619155396\n"
     ]
    }
   ],
   "source": [
    "from pyspark.ml.evaluation import BinaryClassificationEvaluator\n",
    "\n",
    "evaluate = BinaryClassificationEvaluator(rawPredictionCol=\"prediction\", labelCol=\"O-Country\")\n",
    "auc = evaluate.evaluate(pred)\n",
    "print(\"Auc\", auc)"
   ],
   "metadata": {
    "collapsed": false
   }
  },
  {
   "cell_type": "code",
   "execution_count": 34,
   "outputs": [
    {
     "name": "stderr",
     "output_type": "stream",
     "text": [
      "[Stage 327:==============>                                          (2 + 6) / 8]\r"
     ]
    },
    {
     "name": "stdout",
     "output_type": "stream",
     "text": [
      "Acc 0.9092429065058272\n"
     ]
    },
    {
     "name": "stderr",
     "output_type": "stream",
     "text": [
      "                                                                                \r"
     ]
    }
   ],
   "source": [
    "correct_predictions = pred.where(col(\"O-Country\") == col(\"prediction\")).count()\n",
    "total = pred.count()\n",
    "\n",
    "print(\"Acc\", float(correct_predictions) / float(total))"
   ],
   "metadata": {
    "collapsed": false
   }
  },
  {
   "cell_type": "markdown",
   "source": [
    "As we see from the metrics, the model is able to predict quite well. The auc is not particularly high, but it is okay. The acc is quite good."
   ],
   "metadata": {
    "collapsed": false
   }
  },
  {
   "cell_type": "markdown",
   "source": [
    "## Random forest\n",
    "Now let's use a different model, namely the RandomForestClassifier, to do the same task and measure it in the same metrics."
   ],
   "metadata": {
    "collapsed": false
   }
  },
  {
   "cell_type": "code",
   "execution_count": 35,
   "outputs": [
    {
     "name": "stderr",
     "output_type": "stream",
     "text": [
      "                                                                                \r"
     ]
    }
   ],
   "source": [
    "from pyspark.ml.classification import RandomForestClassifier\n",
    "\n",
    "model = RandomForestClassifier(labelCol='O-Country')\n",
    "\n",
    "learned = model.fit(train)\n",
    "pred = learned.transform(test)"
   ],
   "metadata": {
    "collapsed": false
   }
  },
  {
   "cell_type": "code",
   "execution_count": 36,
   "outputs": [
    {
     "name": "stderr",
     "output_type": "stream",
     "text": [
      "                                                                                \r"
     ]
    },
    {
     "name": "stdout",
     "output_type": "stream",
     "text": [
      "Auc 0.7961717551238516\n"
     ]
    }
   ],
   "source": [
    "evaluate = BinaryClassificationEvaluator(rawPredictionCol=\"prediction\", labelCol=\"O-Country\")\n",
    "auc = evaluate.evaluate(pred)\n",
    "print(\"Auc\", auc)"
   ],
   "metadata": {
    "collapsed": false
   }
  },
  {
   "cell_type": "code",
   "execution_count": 37,
   "outputs": [
    {
     "name": "stderr",
     "output_type": "stream",
     "text": [
      "[Stage 358:==============>                                          (2 + 6) / 8]\r"
     ]
    },
    {
     "name": "stdout",
     "output_type": "stream",
     "text": [
      "Acc 0.9204327310107377\n"
     ]
    },
    {
     "name": "stderr",
     "output_type": "stream",
     "text": [
      "                                                                                \r"
     ]
    }
   ],
   "source": [
    "correct_predictions = pred.where(col(\"O-Country\") == col(\"prediction\")).count()\n",
    "total = pred.count()\n",
    "\n",
    "print(\"Acc\", float(correct_predictions) / float(total))"
   ],
   "metadata": {
    "collapsed": false
   }
  },
  {
   "cell_type": "markdown",
   "source": [
    "We can see that both auc and acc increased compared to the LogisticRegression. Both results is now quite good."
   ],
   "metadata": {
    "collapsed": false
   }
  },
  {
   "cell_type": "markdown",
   "source": [
    "## MLP\n",
    "Finally, we will try to use a MLP to perform the same task and measure in the same metrics.\n",
    "\n",
    "*Note; the input layer has to be equal to the amount of faetures, and the output has to be equal to the amount of possible output labels*"
   ],
   "metadata": {
    "collapsed": false
   }
  },
  {
   "cell_type": "code",
   "execution_count": 38,
   "outputs": [
    {
     "name": "stderr",
     "output_type": "stream",
     "text": [
      "                                                                                \r"
     ]
    },
    {
     "name": "stdout",
     "output_type": "stream",
     "text": [
      "23/02/08 14:52:50 WARN BLAS: Failed to load implementation from: com.github.fommil.netlib.NativeSystemBLAS\n",
      "23/02/08 14:52:50 WARN BLAS: Failed to load implementation from: com.github.fommil.netlib.NativeRefBLAS\n"
     ]
    },
    {
     "name": "stderr",
     "output_type": "stream",
     "text": [
      "                                                                                \r"
     ]
    }
   ],
   "source": [
    "from pyspark.ml.classification import MultilayerPerceptronClassifier\n",
    "\n",
    "model = MultilayerPerceptronClassifier(layers=[5, 10, 15, 20, 25, 30, 35, 41], maxIter=100, labelCol=\"O-Country\")\n",
    "\n",
    "learned = model.fit(train)\n",
    "pred = learned.transform(test)"
   ],
   "metadata": {
    "collapsed": false
   }
  },
  {
   "cell_type": "code",
   "execution_count": 39,
   "outputs": [
    {
     "name": "stderr",
     "output_type": "stream",
     "text": [
      "[Stage 522:==============>                                          (2 + 6) / 8]\r"
     ]
    },
    {
     "name": "stdout",
     "output_type": "stream",
     "text": [
      "0.5\n"
     ]
    },
    {
     "name": "stderr",
     "output_type": "stream",
     "text": [
      "                                                                                \r"
     ]
    }
   ],
   "source": [
    "evaluate = BinaryClassificationEvaluator(rawPredictionCol=\"prediction\", labelCol=\"O-Country\")\n",
    "auc = evaluate.evaluate(pred)\n",
    "print(auc)"
   ],
   "metadata": {
    "collapsed": false
   }
  },
  {
   "cell_type": "code",
   "execution_count": 40,
   "outputs": [
    {
     "name": "stderr",
     "output_type": "stream",
     "text": [
      "[Stage 536:==============>                                          (2 + 6) / 8]\r"
     ]
    },
    {
     "name": "stdout",
     "output_type": "stream",
     "text": [
      "Acc 0.8998984432086992\n"
     ]
    },
    {
     "name": "stderr",
     "output_type": "stream",
     "text": [
      "                                                                                \r"
     ]
    }
   ],
   "source": [
    "correct_predictions = pred.where(col(\"O-Country\") == col(\"prediction\")).count()\n",
    "total = pred.count()\n",
    "\n",
    "print(\"Acc\", float(correct_predictions) / float(total))"
   ],
   "metadata": {
    "collapsed": false
   }
  },
  {
   "cell_type": "markdown",
   "source": [
    "As we can see from the MLP results, it scores worse on both metrics compared to the 2 previous models."
   ],
   "metadata": {
    "collapsed": false
   }
  }
 ],
 "metadata": {
  "kernelspec": {
   "display_name": "Python 3",
   "language": "python",
   "name": "python3"
  },
  "language_info": {
   "codemirror_mode": {
    "name": "ipython",
    "version": 3
   },
   "file_extension": ".py",
   "mimetype": "text/x-python",
   "name": "python",
   "nbconvert_exporter": "python",
   "pygments_lexer": "ipython3",
   "version": "3.9.7"
  },
  "vscode": {
   "interpreter": {
    "hash": "aee8b7b246df8f9039afb4144a1f6fd8d2ca17a180786b69acc140d282b71a49"
   }
  }
 },
 "nbformat": 4,
 "nbformat_minor": 0
}
